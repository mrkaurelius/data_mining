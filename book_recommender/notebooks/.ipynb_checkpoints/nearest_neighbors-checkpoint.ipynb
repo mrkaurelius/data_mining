{
 "cells": [
  {
   "cell_type": "markdown",
   "metadata": {},
   "source": [
    "# Unsupervised Nearest Neighbors Kullanarak Collaborative Book Recommendation  \n",
    "\n",
    "NearestNeighbors implements unsupervised nearest neighbors learning. It acts as a uniform interface to three different nearest neighbors algorithms: BallTree, KDTree, and a brute-force algorithm based on routines in sklearn.metrics.pairwise.\n",
    "\n",
    "\n",
    "The most naive neighbor search implementation involves the brute-force computation of distances between all pairs of points in the dataset: for  samples in  dimensions, this approach scales as O[D N^2].\n",
    "\n",
    "Efficient brute-force neighbors searches can be very competitive for small data samples. However, as the number of samples  grows, the brute-force approach quickly becomes infeasible\n",
    "\n",
    "\n",
    "## Kaynaklar\n",
    "\n",
    "- https://scikit-learn.org/stable/modules/neighbors.html#unsupervised-nearest-neighbors\n",
    "- https://scikit-learn.org/stable/modules/neighbors.html#nearest-neighbor-algorithms\n",
    "- https://www.kaggle.com/sankha1998/collaborative-book-recommendation-system/data\n",
    "- https://www.kaggle.com/ruchi798/book-crossing-starter-notebook-and-eda\n",
    "\n",
    "\n",
    "## TODO\n",
    "\n",
    "- eda notebooku ile birlestir\n",
    "- gorsellestirme ekle (cesitli notebooklardan)\n",
    "- detayli veri on isleme ekle\n",
    "- pandas ve np API'sini iyi anla\n",
    "- implicit ratinglerden bahset"
   ]
  },
  {
   "cell_type": "code",
   "execution_count": 1,
   "metadata": {},
   "outputs": [],
   "source": [
    "import numpy as np\n",
    "import pandas as pd "
   ]
  },
  {
   "cell_type": "code",
   "execution_count": 2,
   "metadata": {},
   "outputs": [],
   "source": [
    "# sutunlarin isimlerini liste ile belirle\n",
    "#Users\n",
    "u_cols = ['user_id', 'location', 'age']\n",
    "users = pd.read_csv('../data/book_x/BX-Users.csv', sep=';', names=u_cols, encoding='latin-1',low_memory=False)\n",
    "\n",
    "#Books\n",
    "b_cols = ['ISBN', 'title' ,'author','year', 'publisher', 'img_s', 'img_m', 'img_l']\n",
    "books = pd.read_csv('../data/book_x/BX_Books.csv', sep=';', names=b_cols, encoding='latin-1',low_memory=False)\n",
    "\n",
    "#Ratings\n",
    "r_cols = ['user_id', 'ISBN', 'rating']\n",
    "ratings = pd.read_csv('../data/book_x/BX-Book-Ratings.csv', sep=';', names=r_cols, encoding='latin-1',low_memory=False)"
   ]
  },
  {
   "cell_type": "code",
   "execution_count": 3,
   "metadata": {},
   "outputs": [
    {
     "data": {
      "text/html": [
       "<div>\n",
       "<style scoped>\n",
       "    .dataframe tbody tr th:only-of-type {\n",
       "        vertical-align: middle;\n",
       "    }\n",
       "\n",
       "    .dataframe tbody tr th {\n",
       "        vertical-align: top;\n",
       "    }\n",
       "\n",
       "    .dataframe thead th {\n",
       "        text-align: right;\n",
       "    }\n",
       "</style>\n",
       "<table border=\"1\" class=\"dataframe\">\n",
       "  <thead>\n",
       "    <tr style=\"text-align: right;\">\n",
       "      <th></th>\n",
       "      <th>user_id</th>\n",
       "      <th>location</th>\n",
       "      <th>age</th>\n",
       "    </tr>\n",
       "  </thead>\n",
       "  <tbody>\n",
       "    <tr>\n",
       "      <th>0</th>\n",
       "      <td>User-ID</td>\n",
       "      <td>Location</td>\n",
       "      <td>Age</td>\n",
       "    </tr>\n",
       "    <tr>\n",
       "      <th>1</th>\n",
       "      <td>1</td>\n",
       "      <td>nyc, new york, usa</td>\n",
       "      <td>NaN</td>\n",
       "    </tr>\n",
       "    <tr>\n",
       "      <th>2</th>\n",
       "      <td>2</td>\n",
       "      <td>stockton, california, usa</td>\n",
       "      <td>18</td>\n",
       "    </tr>\n",
       "    <tr>\n",
       "      <th>3</th>\n",
       "      <td>3</td>\n",
       "      <td>moscow, yukon territory, russia</td>\n",
       "      <td>NaN</td>\n",
       "    </tr>\n",
       "    <tr>\n",
       "      <th>4</th>\n",
       "      <td>4</td>\n",
       "      <td>porto, v.n.gaia, portugal</td>\n",
       "      <td>17</td>\n",
       "    </tr>\n",
       "  </tbody>\n",
       "</table>\n",
       "</div>"
      ],
      "text/plain": [
       "   user_id                         location  age\n",
       "0  User-ID                         Location  Age\n",
       "1        1               nyc, new york, usa  NaN\n",
       "2        2        stockton, california, usa   18\n",
       "3        3  moscow, yukon territory, russia  NaN\n",
       "4        4        porto, v.n.gaia, portugal   17"
      ]
     },
     "execution_count": 3,
     "metadata": {},
     "output_type": "execute_result"
    }
   ],
   "source": [
    "users.head()"
   ]
  },
  {
   "cell_type": "code",
   "execution_count": 4,
   "metadata": {},
   "outputs": [
    {
     "data": {
      "text/html": [
       "<div>\n",
       "<style scoped>\n",
       "    .dataframe tbody tr th:only-of-type {\n",
       "        vertical-align: middle;\n",
       "    }\n",
       "\n",
       "    .dataframe tbody tr th {\n",
       "        vertical-align: top;\n",
       "    }\n",
       "\n",
       "    .dataframe thead th {\n",
       "        text-align: right;\n",
       "    }\n",
       "</style>\n",
       "<table border=\"1\" class=\"dataframe\">\n",
       "  <thead>\n",
       "    <tr style=\"text-align: right;\">\n",
       "      <th></th>\n",
       "      <th>ISBN</th>\n",
       "      <th>title</th>\n",
       "      <th>author</th>\n",
       "      <th>year</th>\n",
       "      <th>publisher</th>\n",
       "    </tr>\n",
       "  </thead>\n",
       "  <tbody>\n",
       "    <tr>\n",
       "      <th>0</th>\n",
       "      <td>ISBN</td>\n",
       "      <td>Book-Title</td>\n",
       "      <td>Book-Author</td>\n",
       "      <td>Year-Of-Publication</td>\n",
       "      <td>Publisher</td>\n",
       "    </tr>\n",
       "    <tr>\n",
       "      <th>1</th>\n",
       "      <td>0195153448</td>\n",
       "      <td>Classical Mythology</td>\n",
       "      <td>Mark P. O. Morford</td>\n",
       "      <td>2002</td>\n",
       "      <td>Oxford University Press</td>\n",
       "    </tr>\n",
       "    <tr>\n",
       "      <th>2</th>\n",
       "      <td>0002005018</td>\n",
       "      <td>Clara Callan</td>\n",
       "      <td>Richard Bruce Wright</td>\n",
       "      <td>2001</td>\n",
       "      <td>HarperFlamingo Canada</td>\n",
       "    </tr>\n",
       "    <tr>\n",
       "      <th>3</th>\n",
       "      <td>0060973129</td>\n",
       "      <td>Decision in Normandy</td>\n",
       "      <td>Carlo D'Este</td>\n",
       "      <td>1991</td>\n",
       "      <td>HarperPerennial</td>\n",
       "    </tr>\n",
       "    <tr>\n",
       "      <th>4</th>\n",
       "      <td>0374157065</td>\n",
       "      <td>Flu: The Story of the Great Influenza Pandemic...</td>\n",
       "      <td>Gina Bari Kolata</td>\n",
       "      <td>1999</td>\n",
       "      <td>Farrar Straus Giroux</td>\n",
       "    </tr>\n",
       "  </tbody>\n",
       "</table>\n",
       "</div>"
      ],
      "text/plain": [
       "         ISBN                                              title  \\\n",
       "0        ISBN                                         Book-Title   \n",
       "1  0195153448                                Classical Mythology   \n",
       "2  0002005018                                       Clara Callan   \n",
       "3  0060973129                               Decision in Normandy   \n",
       "4  0374157065  Flu: The Story of the Great Influenza Pandemic...   \n",
       "\n",
       "                 author                 year                publisher  \n",
       "0           Book-Author  Year-Of-Publication                Publisher  \n",
       "1    Mark P. O. Morford                 2002  Oxford University Press  \n",
       "2  Richard Bruce Wright                 2001    HarperFlamingo Canada  \n",
       "3          Carlo D'Este                 1991          HarperPerennial  \n",
       "4      Gina Bari Kolata                 1999     Farrar Straus Giroux  "
      ]
     },
     "execution_count": 4,
     "metadata": {},
     "output_type": "execute_result"
    }
   ],
   "source": [
    "# ise yaramayacak sutunlari at\n",
    "books = books[['ISBN', 'title', 'author', 'year', 'publisher']] #feature engineering : selecting features\n",
    "books.head()"
   ]
  },
  {
   "cell_type": "code",
   "execution_count": 5,
   "metadata": {
    "scrolled": true
   },
   "outputs": [
    {
     "data": {
      "text/html": [
       "<div>\n",
       "<style scoped>\n",
       "    .dataframe tbody tr th:only-of-type {\n",
       "        vertical-align: middle;\n",
       "    }\n",
       "\n",
       "    .dataframe tbody tr th {\n",
       "        vertical-align: top;\n",
       "    }\n",
       "\n",
       "    .dataframe thead th {\n",
       "        text-align: right;\n",
       "    }\n",
       "</style>\n",
       "<table border=\"1\" class=\"dataframe\">\n",
       "  <thead>\n",
       "    <tr style=\"text-align: right;\">\n",
       "      <th></th>\n",
       "      <th>user_id</th>\n",
       "      <th>ISBN</th>\n",
       "      <th>rating</th>\n",
       "    </tr>\n",
       "  </thead>\n",
       "  <tbody>\n",
       "    <tr>\n",
       "      <th>0</th>\n",
       "      <td>User-ID</td>\n",
       "      <td>ISBN</td>\n",
       "      <td>Book-Rating</td>\n",
       "    </tr>\n",
       "    <tr>\n",
       "      <th>1</th>\n",
       "      <td>276725</td>\n",
       "      <td>034545104X</td>\n",
       "      <td>0</td>\n",
       "    </tr>\n",
       "    <tr>\n",
       "      <th>2</th>\n",
       "      <td>276726</td>\n",
       "      <td>0155061224</td>\n",
       "      <td>5</td>\n",
       "    </tr>\n",
       "    <tr>\n",
       "      <th>3</th>\n",
       "      <td>276727</td>\n",
       "      <td>0446520802</td>\n",
       "      <td>0</td>\n",
       "    </tr>\n",
       "    <tr>\n",
       "      <th>4</th>\n",
       "      <td>276729</td>\n",
       "      <td>052165615X</td>\n",
       "      <td>3</td>\n",
       "    </tr>\n",
       "  </tbody>\n",
       "</table>\n",
       "</div>"
      ],
      "text/plain": [
       "   user_id        ISBN       rating\n",
       "0  User-ID        ISBN  Book-Rating\n",
       "1   276725  034545104X            0\n",
       "2   276726  0155061224            5\n",
       "3   276727  0446520802            0\n",
       "4   276729  052165615X            3"
      ]
     },
     "execution_count": 5,
     "metadata": {},
     "output_type": "execute_result"
    }
   ],
   "source": [
    "ratings.head()"
   ]
  },
  {
   "cell_type": "code",
   "execution_count": 6,
   "metadata": {},
   "outputs": [
    {
     "name": "stdout",
     "output_type": "stream",
     "text": [
      "book dataframe'i bicimi (271380, 5)\n",
      "users dataframe'i bicimi (278859, 3)\n",
      "ratings dataframe'i bicimi (1149781, 3)\n"
     ]
    }
   ],
   "source": [
    "print(\"book dataframe'i bicimi\", books.shape)\n",
    "print(\"users dataframe'i bicimi\", users.shape)\n",
    "print(\"ratings dataframe'i bicimi\", ratings.shape)"
   ]
  },
  {
   "cell_type": "code",
   "execution_count": 7,
   "metadata": {},
   "outputs": [
    {
     "data": {
      "text/plain": [
       "(105284,)"
      ]
     },
     "execution_count": 7,
     "metadata": {},
     "output_type": "execute_result"
    }
   ],
   "source": [
    "# degerlendirme yapan ozgun kullinici sayisi\n",
    "ratings['user_id'].value_counts().shape"
   ]
  },
  {
   "cell_type": "code",
   "execution_count": 8,
   "metadata": {},
   "outputs": [],
   "source": [
    "# kullanicilarin yaptigi rating sayisinin histogramini yap"
   ]
  },
  {
   "cell_type": "markdown",
   "metadata": {},
   "source": [
    "# Veri On Isleme\n",
    "\n",
    "### TODO\n",
    "- implicit ratingsleri mean value ile degistir\n",
    "- daha detayli preprocessing yap"
   ]
  },
  {
   "cell_type": "code",
   "execution_count": 9,
   "metadata": {},
   "outputs": [
    {
     "data": {
      "text/plain": [
       "(5132,)"
      ]
     },
     "execution_count": 9,
     "metadata": {},
     "output_type": "execute_result"
    }
   ],
   "source": [
    "# 200 degeri bruteforce da n^2 (polinomial) arttigi icin selected_ratings'i cok arttirmak akillica degil\n",
    "# yada farkli bir algoritma kullanmak gerekli\n",
    "\n",
    "selected_ratings = ratings['user_id'].value_counts() > 30\n",
    "selected_ratings[selected_ratings].shape"
   ]
  },
  {
   "cell_type": "code",
   "execution_count": 10,
   "metadata": {},
   "outputs": [],
   "source": [
    "selected_rating_index = selected_ratings[selected_ratings].index"
   ]
  },
  {
   "cell_type": "code",
   "execution_count": 11,
   "metadata": {},
   "outputs": [
    {
     "data": {
      "text/plain": [
       "Index(['11676', '198711', '153662', '98391', '35859', '212898', '278418',\n",
       "       '76352', '110973', '235105',\n",
       "       ...\n",
       "       '173657', '140842', '225414', '229681', '34377', '220620', '170158',\n",
       "       '165392', '223892', '245782'],\n",
       "      dtype='object', length=5132)"
      ]
     },
     "execution_count": 11,
     "metadata": {},
     "output_type": "execute_result"
    }
   ],
   "source": [
    "selected_rating_index"
   ]
  },
  {
   "cell_type": "code",
   "execution_count": 12,
   "metadata": {},
   "outputs": [
    {
     "name": "stdout",
     "output_type": "stream",
     "text": [
      "(834558, 3)\n"
     ]
    }
   ],
   "source": [
    "# ratingsleri selectred ratingslere gore flitrele\n",
    "ratings = ratings[ratings['user_id'].isin(selected_rating_index)]\n",
    "print(ratings.shape)"
   ]
  },
  {
   "cell_type": "code",
   "execution_count": 13,
   "metadata": {},
   "outputs": [
    {
     "name": "stdout",
     "output_type": "stream",
     "text": [
      "(761799, 7)\n"
     ]
    }
   ],
   "source": [
    "# books ile ratings dataframelerini birlerstir\n",
    "\n",
    "ratings_with_books = ratings.merge(books,on = 'ISBN')\n",
    "print(ratings_with_books.shape)\n",
    "# print(rating_with_books.head())"
   ]
  },
  {
   "cell_type": "code",
   "execution_count": 14,
   "metadata": {},
   "outputs": [
    {
     "data": {
      "text/html": [
       "<div>\n",
       "<style scoped>\n",
       "    .dataframe tbody tr th:only-of-type {\n",
       "        vertical-align: middle;\n",
       "    }\n",
       "\n",
       "    .dataframe tbody tr th {\n",
       "        vertical-align: top;\n",
       "    }\n",
       "\n",
       "    .dataframe thead th {\n",
       "        text-align: right;\n",
       "    }\n",
       "</style>\n",
       "<table border=\"1\" class=\"dataframe\">\n",
       "  <thead>\n",
       "    <tr style=\"text-align: right;\">\n",
       "      <th></th>\n",
       "      <th>title</th>\n",
       "      <th>number of rating</th>\n",
       "    </tr>\n",
       "  </thead>\n",
       "  <tbody>\n",
       "    <tr>\n",
       "      <th>0</th>\n",
       "      <td>A Light in the Storm: The Civil War Diary of ...</td>\n",
       "      <td>4</td>\n",
       "    </tr>\n",
       "    <tr>\n",
       "      <th>1</th>\n",
       "      <td>Always Have Popsicles</td>\n",
       "      <td>1</td>\n",
       "    </tr>\n",
       "    <tr>\n",
       "      <th>2</th>\n",
       "      <td>Apple Magic (The Collector's series)</td>\n",
       "      <td>1</td>\n",
       "    </tr>\n",
       "    <tr>\n",
       "      <th>3</th>\n",
       "      <td>Ask Lily (Young Women of Faith: Lily Series, ...</td>\n",
       "      <td>1</td>\n",
       "    </tr>\n",
       "    <tr>\n",
       "      <th>4</th>\n",
       "      <td>Beyond IBM: Leadership Marketing and Finance ...</td>\n",
       "      <td>1</td>\n",
       "    </tr>\n",
       "  </tbody>\n",
       "</table>\n",
       "</div>"
      ],
      "text/plain": [
       "                                               title  number of rating\n",
       "0   A Light in the Storm: The Civil War Diary of ...                 4\n",
       "1                              Always Have Popsicles                 1\n",
       "2               Apple Magic (The Collector's series)                 1\n",
       "3   Ask Lily (Young Women of Faith: Lily Series, ...                 1\n",
       "4   Beyond IBM: Leadership Marketing and Finance ...                 1"
      ]
     },
     "execution_count": 14,
     "metadata": {},
     "output_type": "execute_result"
    }
   ],
   "source": [
    "# pandas kisimlarini anla\n",
    "# kitabin toplam rating sayisi\n",
    "number_rating = ratings_with_books.groupby('title')['rating'].count().reset_index()\n",
    "# sutunu yeni anlamina gore isimlendir\n",
    "number_rating.rename(columns={'rating':'number of rating'}, inplace = True)\n",
    "number_rating.head()"
   ]
  },
  {
   "cell_type": "code",
   "execution_count": 15,
   "metadata": {},
   "outputs": [
    {
     "name": "stdout",
     "output_type": "stream",
     "text": [
      "(761799, 8)\n"
     ]
    }
   ],
   "source": [
    "final_ratings = ratings_with_books.merge(number_rating,on = 'title')\n",
    "final_ratings.head()\n",
    "print(final_ratings.shape)"
   ]
  },
  {
   "cell_type": "code",
   "execution_count": 16,
   "metadata": {},
   "outputs": [
    {
     "name": "stdout",
     "output_type": "stream",
     "text": [
      "(373643, 8)\n"
     ]
    },
    {
     "data": {
      "text/html": [
       "<div>\n",
       "<style scoped>\n",
       "    .dataframe tbody tr th:only-of-type {\n",
       "        vertical-align: middle;\n",
       "    }\n",
       "\n",
       "    .dataframe tbody tr th {\n",
       "        vertical-align: top;\n",
       "    }\n",
       "\n",
       "    .dataframe thead th {\n",
       "        text-align: right;\n",
       "    }\n",
       "</style>\n",
       "<table border=\"1\" class=\"dataframe\">\n",
       "  <thead>\n",
       "    <tr style=\"text-align: right;\">\n",
       "      <th></th>\n",
       "      <th>user_id</th>\n",
       "      <th>ISBN</th>\n",
       "      <th>rating</th>\n",
       "      <th>title</th>\n",
       "      <th>author</th>\n",
       "      <th>year</th>\n",
       "      <th>publisher</th>\n",
       "      <th>number of rating</th>\n",
       "    </tr>\n",
       "  </thead>\n",
       "  <tbody>\n",
       "    <tr>\n",
       "      <th>0</th>\n",
       "      <td>276847</td>\n",
       "      <td>0446364193</td>\n",
       "      <td>0</td>\n",
       "      <td>Along Came a Spider (Alex Cross Novels)</td>\n",
       "      <td>James Patterson</td>\n",
       "      <td>1993</td>\n",
       "      <td>Warner Books</td>\n",
       "      <td>213</td>\n",
       "    </tr>\n",
       "    <tr>\n",
       "      <th>1</th>\n",
       "      <td>278418</td>\n",
       "      <td>0446364193</td>\n",
       "      <td>0</td>\n",
       "      <td>Along Came a Spider (Alex Cross Novels)</td>\n",
       "      <td>James Patterson</td>\n",
       "      <td>1993</td>\n",
       "      <td>Warner Books</td>\n",
       "      <td>213</td>\n",
       "    </tr>\n",
       "    <tr>\n",
       "      <th>2</th>\n",
       "      <td>5483</td>\n",
       "      <td>0446364193</td>\n",
       "      <td>0</td>\n",
       "      <td>Along Came a Spider (Alex Cross Novels)</td>\n",
       "      <td>James Patterson</td>\n",
       "      <td>1993</td>\n",
       "      <td>Warner Books</td>\n",
       "      <td>213</td>\n",
       "    </tr>\n",
       "    <tr>\n",
       "      <th>3</th>\n",
       "      <td>7346</td>\n",
       "      <td>0446364193</td>\n",
       "      <td>0</td>\n",
       "      <td>Along Came a Spider (Alex Cross Novels)</td>\n",
       "      <td>James Patterson</td>\n",
       "      <td>1993</td>\n",
       "      <td>Warner Books</td>\n",
       "      <td>213</td>\n",
       "    </tr>\n",
       "    <tr>\n",
       "      <th>4</th>\n",
       "      <td>8362</td>\n",
       "      <td>0446364193</td>\n",
       "      <td>0</td>\n",
       "      <td>Along Came a Spider (Alex Cross Novels)</td>\n",
       "      <td>James Patterson</td>\n",
       "      <td>1993</td>\n",
       "      <td>Warner Books</td>\n",
       "      <td>213</td>\n",
       "    </tr>\n",
       "  </tbody>\n",
       "</table>\n",
       "</div>"
      ],
      "text/plain": [
       "  user_id        ISBN rating                                    title  \\\n",
       "0  276847  0446364193      0  Along Came a Spider (Alex Cross Novels)   \n",
       "1  278418  0446364193      0  Along Came a Spider (Alex Cross Novels)   \n",
       "2    5483  0446364193      0  Along Came a Spider (Alex Cross Novels)   \n",
       "3    7346  0446364193      0  Along Came a Spider (Alex Cross Novels)   \n",
       "4    8362  0446364193      0  Along Came a Spider (Alex Cross Novels)   \n",
       "\n",
       "            author  year     publisher  number of rating  \n",
       "0  James Patterson  1993  Warner Books               213  \n",
       "1  James Patterson  1993  Warner Books               213  \n",
       "2  James Patterson  1993  Warner Books               213  \n",
       "3  James Patterson  1993  Warner Books               213  \n",
       "4  James Patterson  1993  Warner Books               213  "
      ]
     },
     "execution_count": 16,
     "metadata": {},
     "output_type": "execute_result"
    }
   ],
   "source": [
    "## 50 den fazla rating yapilan kitaplari kullan \n",
    "final_ratings = final_ratings[final_ratings['number of rating'] >= 10]\n",
    "print(final_ratings.shape)\n",
    "final_ratings.head()"
   ]
  },
  {
   "cell_type": "code",
   "execution_count": 17,
   "metadata": {},
   "outputs": [
    {
     "data": {
      "text/plain": [
       "(369425, 8)"
      ]
     },
     "execution_count": 17,
     "metadata": {},
     "output_type": "execute_result"
    }
   ],
   "source": [
    "# mukerrer kayitlari sil\n",
    "final_ratings.drop_duplicates(['user_id', 'title'], inplace = True)\n",
    "final_ratings.shape"
   ]
  },
  {
   "cell_type": "code",
   "execution_count": 18,
   "metadata": {},
   "outputs": [
    {
     "name": "stdout",
     "output_type": "stream",
     "text": [
      "<class 'pandas.core.frame.DataFrame'>\n",
      "Int64Index: 369425 entries, 0 to 711210\n",
      "Data columns (total 8 columns):\n",
      " #   Column            Non-Null Count   Dtype \n",
      "---  ------            --------------   ----- \n",
      " 0   user_id           369425 non-null  object\n",
      " 1   ISBN              369425 non-null  object\n",
      " 2   rating            369425 non-null  object\n",
      " 3   title             369425 non-null  object\n",
      " 4   author            369425 non-null  object\n",
      " 5   year              369425 non-null  object\n",
      " 6   publisher         369424 non-null  object\n",
      " 7   number of rating  369425 non-null  int64 \n",
      "dtypes: int64(1), object(7)\n",
      "memory usage: 25.4+ MB\n"
     ]
    }
   ],
   "source": [
    "# final_ratings\n",
    "final_ratings.info(verbose=True)"
   ]
  },
  {
   "cell_type": "code",
   "execution_count": 19,
   "metadata": {
    "scrolled": true
   },
   "outputs": [],
   "source": [
    "# pivot tablo olustur\n",
    "# rating uzerinden aggraget et\n",
    "final_ratings['rating'] = final_ratings['rating'].astype(int)\n",
    "# final_ratings.info(verbose=True)\n",
    "book_pivot = final_ratings.pivot_table(columns='user_id', index='title', values='rating') "
   ]
  },
  {
   "cell_type": "code",
   "execution_count": 20,
   "metadata": {},
   "outputs": [
    {
     "data": {
      "text/html": [
       "<div>\n",
       "<style scoped>\n",
       "    .dataframe tbody tr th:only-of-type {\n",
       "        vertical-align: middle;\n",
       "    }\n",
       "\n",
       "    .dataframe tbody tr th {\n",
       "        vertical-align: top;\n",
       "    }\n",
       "\n",
       "    .dataframe thead th {\n",
       "        text-align: right;\n",
       "    }\n",
       "</style>\n",
       "<table border=\"1\" class=\"dataframe\">\n",
       "  <thead>\n",
       "    <tr style=\"text-align: right;\">\n",
       "      <th></th>\n",
       "      <th>user_id</th>\n",
       "      <th>ISBN</th>\n",
       "      <th>rating</th>\n",
       "      <th>title</th>\n",
       "      <th>author</th>\n",
       "      <th>year</th>\n",
       "      <th>publisher</th>\n",
       "      <th>number of rating</th>\n",
       "    </tr>\n",
       "  </thead>\n",
       "  <tbody>\n",
       "    <tr>\n",
       "      <th>0</th>\n",
       "      <td>276847</td>\n",
       "      <td>0446364193</td>\n",
       "      <td>0</td>\n",
       "      <td>Along Came a Spider (Alex Cross Novels)</td>\n",
       "      <td>James Patterson</td>\n",
       "      <td>1993</td>\n",
       "      <td>Warner Books</td>\n",
       "      <td>213</td>\n",
       "    </tr>\n",
       "    <tr>\n",
       "      <th>1</th>\n",
       "      <td>278418</td>\n",
       "      <td>0446364193</td>\n",
       "      <td>0</td>\n",
       "      <td>Along Came a Spider (Alex Cross Novels)</td>\n",
       "      <td>James Patterson</td>\n",
       "      <td>1993</td>\n",
       "      <td>Warner Books</td>\n",
       "      <td>213</td>\n",
       "    </tr>\n",
       "    <tr>\n",
       "      <th>2</th>\n",
       "      <td>5483</td>\n",
       "      <td>0446364193</td>\n",
       "      <td>0</td>\n",
       "      <td>Along Came a Spider (Alex Cross Novels)</td>\n",
       "      <td>James Patterson</td>\n",
       "      <td>1993</td>\n",
       "      <td>Warner Books</td>\n",
       "      <td>213</td>\n",
       "    </tr>\n",
       "    <tr>\n",
       "      <th>3</th>\n",
       "      <td>7346</td>\n",
       "      <td>0446364193</td>\n",
       "      <td>0</td>\n",
       "      <td>Along Came a Spider (Alex Cross Novels)</td>\n",
       "      <td>James Patterson</td>\n",
       "      <td>1993</td>\n",
       "      <td>Warner Books</td>\n",
       "      <td>213</td>\n",
       "    </tr>\n",
       "    <tr>\n",
       "      <th>4</th>\n",
       "      <td>8362</td>\n",
       "      <td>0446364193</td>\n",
       "      <td>0</td>\n",
       "      <td>Along Came a Spider (Alex Cross Novels)</td>\n",
       "      <td>James Patterson</td>\n",
       "      <td>1993</td>\n",
       "      <td>Warner Books</td>\n",
       "      <td>213</td>\n",
       "    </tr>\n",
       "  </tbody>\n",
       "</table>\n",
       "</div>"
      ],
      "text/plain": [
       "  user_id        ISBN  rating                                    title  \\\n",
       "0  276847  0446364193       0  Along Came a Spider (Alex Cross Novels)   \n",
       "1  278418  0446364193       0  Along Came a Spider (Alex Cross Novels)   \n",
       "2    5483  0446364193       0  Along Came a Spider (Alex Cross Novels)   \n",
       "3    7346  0446364193       0  Along Came a Spider (Alex Cross Novels)   \n",
       "4    8362  0446364193       0  Along Came a Spider (Alex Cross Novels)   \n",
       "\n",
       "            author  year     publisher  number of rating  \n",
       "0  James Patterson  1993  Warner Books               213  \n",
       "1  James Patterson  1993  Warner Books               213  \n",
       "2  James Patterson  1993  Warner Books               213  \n",
       "3  James Patterson  1993  Warner Books               213  \n",
       "4  James Patterson  1993  Warner Books               213  "
      ]
     },
     "execution_count": 20,
     "metadata": {},
     "output_type": "execute_result"
    }
   ],
   "source": [
    "final_ratings.head()"
   ]
  },
  {
   "cell_type": "code",
   "execution_count": 28,
   "metadata": {},
   "outputs": [
    {
     "data": {
      "text/plain": [
       "(12942, 5059)"
      ]
     },
     "execution_count": 28,
     "metadata": {},
     "output_type": "execute_result"
    }
   ],
   "source": [
    "book_pivot.shape"
   ]
  },
  {
   "cell_type": "code",
   "execution_count": 30,
   "metadata": {},
   "outputs": [],
   "source": [
    "book_pivot.fillna(0,inplace=True)"
   ]
  },
  {
   "cell_type": "code",
   "execution_count": 23,
   "metadata": {},
   "outputs": [],
   "source": [
    "# final_ratings = final_ratings[final_ratings['title'] == 'Animal Farm']\n",
    "# final_ratings"
   ]
  },
  {
   "cell_type": "markdown",
   "metadata": {},
   "source": [
    "# Asil isin oldugu yer\n",
    "\n",
    "knn e gorsellestirme yapilabilir mi\n",
    "\n",
    "## TODO\n",
    "\n",
    "Burasi onemli bu bolumdeki tum kodlari detayi ile anlamak lazim."
   ]
  },
  {
   "cell_type": "code",
   "execution_count": 24,
   "metadata": {},
   "outputs": [
    {
     "data": {
      "text/plain": [
       "NearestNeighbors(algorithm='brute')"
      ]
     },
     "execution_count": 24,
     "metadata": {},
     "output_type": "execute_result"
    }
   ],
   "source": [
    "from scipy.sparse import csr_matrix\n",
    "from sklearn.neighbors import NearestNeighbors\n",
    "\n",
    "book_sparse = csr_matrix(book_pivot)\n",
    "nn = NearestNeighbors(algorithm='brute')\n",
    "nn.fit(book_sparse)"
   ]
  },
  {
   "cell_type": "markdown",
   "metadata": {},
   "source": [
    "## Recommendation Function"
   ]
  },
  {
   "cell_type": "code",
   "execution_count": 25,
   "metadata": {
    "scrolled": false
   },
   "outputs": [],
   "source": [
    "import pprint\n",
    "# pp = pprint.PrettyPrinter(indent=4)\n",
    "# pp.pprint(book_pivot.index.tolist())"
   ]
  },
  {
   "cell_type": "code",
   "execution_count": 26,
   "metadata": {},
   "outputs": [],
   "source": [
    "def recommendation(book_name):\n",
    "    # alttaki 2 satiri cok iyi anlamak lazim\n",
    "    book_id = np.where(book_pivot.index == book_name)[0][0]\n",
    "    print(\"book_id: \", book_id)\n",
    "    # print(book_pivot.iloc[book_id,:].values.reshape(1,-1))\n",
    "    distances, suggestions = nn.kneighbors(book_pivot.iloc[book_id,:].values.reshape(1,-1))\n",
    "    \n",
    "    print(\"distances: \", distances)\n",
    "    print(\"suggestions: \", suggestions)\n",
    "    \n",
    "    for i in range(len(suggestions)):\n",
    "        if i == 0:\n",
    "            print(\"the suggestions are \",book_name,\"are : \")\n",
    "        if not i:\n",
    "            print(book_pivot.index[suggestions[i]])\n",
    "    print()"
   ]
  },
  {
   "cell_type": "code",
   "execution_count": 27,
   "metadata": {},
   "outputs": [
    {
     "name": "stdout",
     "output_type": "stream",
     "text": [
      "book_id:  821\n",
      "distances:  [[ 0.         67.9337913  67.97058187 68.19824045 68.22756041]]\n",
      "suggestions:  [[  821 11009  8516 11755 12331]]\n",
      "the suggestions are  Animal Farm are : \n",
      "Index(['Animal Farm', 'The Republic of Love',\n",
      "       'Spontaneous Healing : How to Discover and Enhance Your Body's Natural Ability to Maintain and Heal Itself',\n",
      "       'The crow road', 'Vintage Stuff'],\n",
      "      dtype='object', name='title')\n",
      "\n",
      "book_id:  9854\n",
      "distances:  [[ 0.         86.         87.69264507 91.47677301 95.35722311]]\n",
      "suggestions:  [[ 9854 11515 11023 11022  2284]]\n",
      "the suggestions are  The Fellowship of the Ring (The Lord of the Rings, Part 1) are : \n",
      "Index(['The Fellowship of the Ring (The Lord of the Rings, Part 1)',\n",
      "       'The Two Towers (The Lord of the Rings, Part 2)',\n",
      "       'The Return of the King (The Lord of the Rings, Part 3)',\n",
      "       'The Return of the King (The Lord of The Rings, Part 3)',\n",
      "       'DIANA HER TRUE STORY COMMEMORATIVE EDITION'],\n",
      "      dtype='object', name='title')\n",
      "\n",
      "book_id:  4137\n",
      "distances:  [[ 0.         96.54532614 96.67471231 96.84007435 96.85556257]]\n",
      "suggestions:  [[ 4137   125  8904 11042  4334]]\n",
      "the suggestions are  Harry Potter and the Sorcerer's Stone (Book 1) are : \n",
      "Index(['Harry Potter and the Sorcerer's Stone (Book 1)',\n",
      "       'A Dance Through Time (Time Passages Romance)',\n",
      "       'Taran Wanderer (Chronicles of Prydain (Paperback))', 'The River',\n",
      "       'His Way: The Unauthorized Biography of Frank Sinatra'],\n",
      "      dtype='object', name='title')\n",
      "\n",
      "book_id:  4131\n",
      "distances:  [[  0.         106.33437826 108.18502669 119.23086849 127.2202814 ]]\n",
      "suggestions:  [[4131 4133 4135 4137 2836]]\n",
      "the suggestions are  Harry Potter and the Chamber of Secrets (Book 2) are : \n",
      "Index(['Harry Potter and the Chamber of Secrets (Book 2)',\n",
      "       'Harry Potter and the Goblet of Fire (Book 4)',\n",
      "       'Harry Potter and the Prisoner of Azkaban (Book 3)',\n",
      "       'Harry Potter and the Sorcerer's Stone (Book 1)',\n",
      "       'Dr. Seuss's A B C (I Can Read It All by Myself Beginner Books)'],\n",
      "      dtype='object', name='title')\n",
      "\n",
      "book_id:  9592\n",
      "distances:  [[  0.         132.8382475  133.20660644 133.51029923 133.55523202]]\n",
      "suggestions:  [[ 9592 11505 12671 12067  8291]]\n",
      "the suggestions are  The Da Vinci Code are : \n",
      "Index(['The Da Vinci Code', 'The Twentieth Wife: A Novel', 'Widow's Walk',\n",
      "       'Trojan Odyssey', 'Sleep Tight (Onyx Book)'],\n",
      "      dtype='object', name='title')\n",
      "\n"
     ]
    }
   ],
   "source": [
    "# recommendation('White Teeth: A Novel')\n",
    "# recommendation('Pleading Guilty')\n",
    "# recommendation('American Gods')\n",
    "\n",
    "recommendation('Animal Farm')\n",
    "recommendation('The Fellowship of the Ring (The Lord of the Rings, Part 1)')\n",
    "recommendation(\"Harry Potter and the Sorcerer's Stone (Book 1)\")\n",
    "recommendation(\"Harry Potter and the Chamber of Secrets (Book 2)\")\n",
    "recommendation(\"The Da Vinci Code\")\n",
    "\n",
    "# print(recommendation(\"Harry Potter and the Sorcerer's Stone (Harry Potter (Paperback))\"))"
   ]
  },
  {
   "cell_type": "code",
   "execution_count": null,
   "metadata": {},
   "outputs": [],
   "source": []
  }
 ],
 "metadata": {
  "kernelspec": {
   "display_name": "Python 3",
   "language": "python",
   "name": "python3"
  },
  "language_info": {
   "codemirror_mode": {
    "name": "ipython",
    "version": 3
   },
   "file_extension": ".py",
   "mimetype": "text/x-python",
   "name": "python",
   "nbconvert_exporter": "python",
   "pygments_lexer": "ipython3",
   "version": "3.7.3"
  }
 },
 "nbformat": 4,
 "nbformat_minor": 4
}
